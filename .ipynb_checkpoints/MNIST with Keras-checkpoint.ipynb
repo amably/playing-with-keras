{
 "cells": [
  {
   "cell_type": "markdown",
   "metadata": {},
   "source": [
    "## Using Keras to build neural networks"
   ]
  },
  {
   "cell_type": "code",
   "execution_count": 55,
   "metadata": {},
   "outputs": [],
   "source": [
    "import numpy as np\n",
    "from keras.models import Sequential\n",
    "from keras.layers import Dense\n",
    "from keras.layers import Dropout\n",
    "from keras.layers import Flatten\n",
    "from keras.layers.convolutional import Conv2D\n",
    "from keras.layers.convolutional import MaxPooling2D\n",
    "from keras.utils import np_utils\n",
    "from keras import backend as K\n",
    "K.set_image_dim_ordering('th')\n",
    "\n",
    "import matplotlib.pyplot as plt\n",
    "\n",
    "from keras.datasets import mnist\n",
    "np.random.seed(42)"
   ]
  },
  {
   "cell_type": "code",
   "execution_count": 56,
   "metadata": {},
   "outputs": [],
   "source": [
    "#load MNIST dataset\n",
    "(X_train, y_train), (X_test, y_test) = mnist.load_data()"
   ]
  },
  {
   "cell_type": "code",
   "execution_count": 57,
   "metadata": {},
   "outputs": [
    {
     "data": {
      "text/plain": [
       "<matplotlib.image.AxesImage at 0x7fc0308473c8>"
      ]
     },
     "execution_count": 57,
     "metadata": {},
     "output_type": "execute_result"
    },
    {
     "data": {
      "image/png": "[encoded data removed]",
      "text/plain": [
       "<Figure size 432x288 with 1 Axes>"
      ]
     },
     "metadata": {
      "needs_background": "light"
     },
     "output_type": "display_data"
    }
   ],
   "source": [
    "plt.imshow(X_train[0])"
   ]
  },
  {
   "cell_type": "code",
   "execution_count": 58,
   "metadata": {},
   "outputs": [
    {
     "data": {
      "text/plain": [
       "(60000, 28, 28)"
      ]
     },
     "execution_count": 58,
     "metadata": {},
     "output_type": "execute_result"
    }
   ],
   "source": [
    "X_train.shape"
   ]
  },
  {
   "cell_type": "code",
   "execution_count": 59,
   "metadata": {},
   "outputs": [],
   "source": [
    "#dataset is 3D, so it will need to be flattened\n",
    "pixels = X_train.shape[1] * X_train.shape[2]\n",
    "X_train = X_train.reshape(X_train.shape[0], pixels).astype('float32')\n",
    "X_test = X_test.reshape(X_test.shape[0], pixels).astype('float32')"
   ]
  },
  {
   "cell_type": "code",
   "execution_count": 60,
   "metadata": {},
   "outputs": [],
   "source": [
    "#normalize so all the values line between 0-1\n",
    "X_train /= 255\n",
    "X_test /= 255\n"
   ]
  },
  {
   "cell_type": "code",
   "execution_count": 30,
   "metadata": {},
   "outputs": [
    {
     "data": {
      "text/plain": [
       "(60000,)"
      ]
     },
     "execution_count": 30,
     "metadata": {},
     "output_type": "execute_result"
    }
   ],
   "source": [
    "y_train.shape"
   ]
  },
  {
   "cell_type": "code",
   "execution_count": 31,
   "metadata": {},
   "outputs": [
    {
     "data": {
      "text/plain": [
       "5"
      ]
     },
     "execution_count": 31,
     "metadata": {},
     "output_type": "execute_result"
    }
   ],
   "source": [
    "y_train[0]"
   ]
  },
  {
   "cell_type": "code",
   "execution_count": 52,
   "metadata": {},
   "outputs": [],
   "source": [
    "#target is currently still a list on integers, but it needs to be categories, can do this using utils.to_category\n",
    "y_train = np_utils.to_categorical(y_train)\n",
    "y_test = np_utils.to_categorical(y_test)\n",
    "num_classes = y_test.shape[1]\n"
   ]
  },
  {
   "cell_type": "markdown",
   "metadata": {},
   "source": [
    "## Build a simple multi-layer perceptron model\n",
    "#### The model is build sequentially, with layers added one at a time. We're only adding one hidden layer and an output layer for this first simple model, but we'll be adding more layers later\n",
    "#### input_dims is the input dimensions, this only needs to be secified in the first layer\n",
    "#### finding the best network topology for your needs usually comes down to a little trial and error, but you need a large enough netwrok to capture the structure of the problem"
   ]
  },
  {
   "cell_type": "code",
   "execution_count": 22,
   "metadata": {},
   "outputs": [],
   "source": [
    "#we can now create a baseline model\n",
    "\n",
    "def baseline_model():\n",
    "    # create model\n",
    "    model = Sequential()\n",
    "    model.add(Dense(units = pixels, input_dim=pixels, kernel_initializer='normal', activation='relu'))\n",
    "    model.add(Dense(units = num_classes, kernel_initializer='normal', activation='softmax'))\n",
    "    \n",
    "    # Compile model\n",
    "    model.compile(loss='categorical_crossentropy', optimizer='adam', metrics=['accuracy'])\n",
    "    return model"
   ]
  },
  {
   "cell_type": "markdown",
   "metadata": {},
   "source": [
    "#### The baseline model has one hidden layer. The hidden layer has the same number of neurons as there are inputs (28*28 pixels).\n",
    "#### The Dense() class defines fully connected layers\n",
    "#### The softmax activation function for the output layer output a probability value, so one of the classes (0-9) will be selected. "
   ]
  },
  {
   "cell_type": "code",
   "execution_count": 23,
   "metadata": {},
   "outputs": [
    {
     "name": "stdout",
     "output_type": "stream",
     "text": [
      "WARNING:tensorflow:From /home/alex/anaconda3/envs/tf/lib/python3.7/site-packages/tensorflow/python/framework/op_def_library.py:263: colocate_with (from tensorflow.python.framework.ops) is deprecated and will be removed in a future version.\n",
      "Instructions for updating:\n",
      "Colocations handled automatically by placer.\n",
      "WARNING:tensorflow:From /home/alex/anaconda3/envs/tf/lib/python3.7/site-packages/tensorflow/python/ops/math_ops.py:3066: to_int32 (from tensorflow.python.ops.math_ops) is deprecated and will be removed in a future version.\n",
      "Instructions for updating:\n",
      "Use tf.cast instead.\n",
      "Train on 60000 samples, validate on 10000 samples\n",
      "Epoch 1/10\n",
      " - 5s - loss: 0.2796 - acc: 0.9203 - val_loss: 0.1421 - val_acc: 0.9579\n",
      "Epoch 2/10\n",
      " - 4s - loss: 0.1097 - acc: 0.9684 - val_loss: 0.0932 - val_acc: 0.9717\n",
      "Epoch 3/10\n",
      " - 4s - loss: 0.0719 - acc: 0.9786 - val_loss: 0.0779 - val_acc: 0.9773\n",
      "Epoch 4/10\n",
      " - 4s - loss: 0.0498 - acc: 0.9858 - val_loss: 0.0684 - val_acc: 0.9803\n",
      "Epoch 5/10\n",
      " - 4s - loss: 0.0361 - acc: 0.9898 - val_loss: 0.0643 - val_acc: 0.9799\n",
      "Epoch 6/10\n",
      " - 4s - loss: 0.0262 - acc: 0.9929 - val_loss: 0.0604 - val_acc: 0.9808\n",
      "Epoch 7/10\n",
      " - 4s - loss: 0.0192 - acc: 0.9956 - val_loss: 0.0647 - val_acc: 0.9808\n",
      "Epoch 8/10\n",
      " - 4s - loss: 0.0153 - acc: 0.9962 - val_loss: 0.0568 - val_acc: 0.9821\n",
      "Epoch 9/10\n",
      " - 4s - loss: 0.0106 - acc: 0.9978 - val_loss: 0.0589 - val_acc: 0.9817\n",
      "Epoch 10/10\n",
      " - 4s - loss: 0.0076 - acc: 0.9987 - val_loss: 0.0660 - val_acc: 0.9790\n",
      "Baseline Error: 2.10%\n"
     ]
    }
   ],
   "source": [
    "# build the baseline model\n",
    "model = baseline_model()\n",
    "\n",
    "# Fit the model, over 10 epochs, with update every 200 images\n",
    "model.fit(X_train, y_train, validation_data=(X_test, y_test), epochs=10, batch_size=200, verbose=2)\n",
    "\n",
    "# Evaluate baseline model\n",
    "scores = model.evaluate(X_test, y_test, verbose=0)\n",
    "print(\"Baseline Error: %.2f%%\" % (100-scores[1]*100))"
   ]
  },
  {
   "cell_type": "markdown",
   "metadata": {},
   "source": [
    "#### Epochs refers to the number of iteractions through the dataset for the training process. And the batch_size sets the number of instances that are evaluated before the network weights are updated. "
   ]
  },
  {
   "cell_type": "markdown",
   "metadata": {},
   "source": [
    "## Build a CNN\n",
    "#### This requires slightly different reshaping compared to the previous example"
   ]
  },
  {
   "cell_type": "code",
   "execution_count": 72,
   "metadata": {},
   "outputs": [
    {
     "data": {
      "text/plain": [
       "(60000, 1, 28, 28)"
      ]
     },
     "execution_count": 72,
     "metadata": {},
     "output_type": "execute_result"
    }
   ],
   "source": [
    "# load data\n",
    "(X_train, y_train), (X_test, y_test) = mnist.load_data()\n",
    "\n",
    "# reshape to be [samples][pixels][width][height]\n",
    "X_train = X_train.reshape(X_train.shape[0], 1, 28, 28).astype('float32')\n",
    "X_test = X_test.reshape(X_test.shape[0], 1, 28, 28).astype('float32')\n",
    "\n",
    "#and normalize\n",
    "X_train /= 255\n",
    "X_test /= 255\n",
    "\n",
    "# one hot encode outputs\n",
    "y_train = np_utils.to_categorical(y_train)\n",
    "y_test = np_utils.to_categorical(y_test)\n",
    "num_classes = y_test.shape[1]\n",
    "\n",
    "X_train.shape"
   ]
  },
  {
   "cell_type": "markdown",
   "metadata": {},
   "source": [
    "#### Conv2D() - 2D convolutional layer (for spatial convolution over images) filters is the dimensionality of the output space, kernel size is the width and height of the 2D convolution window (must be an odd integer), need to define the input shape for the first layer, need to define the activaton function\n",
    "#### MaxPooling2D() is used to reduce the spatial dimensions of the output volumne\n",
    "#### Dropout() helps with overfitting, sets a random fraction of the input units to 0 at each update during training. Form of regularization. \n",
    "#### Flatten() flattens the input\n",
    "#### Need to change data format at the moment I think - should go and change the config file maybe? With TF backend I believe it defaults to channel last?"
   ]
  },
  {
   "cell_type": "code",
   "execution_count": 76,
   "metadata": {},
   "outputs": [],
   "source": [
    "#create function to build model\n",
    "\n",
    "def cnn_model():\n",
    "    model = Sequential()\n",
    "    model.add(Conv2D(filters = 32,kernel_size = (5,5), input_shape = (1,28,28), activation = 'relu', data_format = 'channels_first'))\n",
    "    model.add(MaxPooling2D(pool_size = (2,2)))\n",
    "    model.add(Dropout(0.2))\n",
    "    model.add(Flatten())\n",
    "    model.add(Dense(units = 128, activation = 'relu'))\n",
    "    model.add(Dense(units = num_classes, activation = 'softmax'))\n",
    "    \n",
    "    #compile model\n",
    "    model.compile(loss='categorical_crossentropy', optimizer = 'adam', metrics=['accuracy'])\n",
    "    \n",
    "    return model"
   ]
  },
  {
   "cell_type": "code",
   "execution_count": 77,
   "metadata": {},
   "outputs": [
    {
     "name": "stdout",
     "output_type": "stream",
     "text": [
      "Train on 60000 samples, validate on 10000 samples\n",
      "Epoch 1/10\n",
      " - 26s - loss: 0.2405 - acc: 0.9309 - val_loss: 0.0881 - val_acc: 0.9723\n",
      "Epoch 2/10\n",
      " - 25s - loss: 0.0761 - acc: 0.9774 - val_loss: 0.0499 - val_acc: 0.9846\n",
      "Epoch 3/10\n",
      " - 25s - loss: 0.0530 - acc: 0.9839 - val_loss: 0.0453 - val_acc: 0.9841\n",
      "Epoch 4/10\n",
      " - 24s - loss: 0.0409 - acc: 0.9874 - val_loss: 0.0387 - val_acc: 0.9862\n",
      "Epoch 5/10\n",
      " - 24s - loss: 0.0337 - acc: 0.9898 - val_loss: 0.0377 - val_acc: 0.9879\n",
      "Epoch 6/10\n",
      " - 25s - loss: 0.0274 - acc: 0.9909 - val_loss: 0.0357 - val_acc: 0.9877\n",
      "Epoch 7/10\n",
      " - 25s - loss: 0.0232 - acc: 0.9926 - val_loss: 0.0319 - val_acc: 0.9897\n",
      "Epoch 8/10\n",
      " - 24s - loss: 0.0196 - acc: 0.9933 - val_loss: 0.0330 - val_acc: 0.9901\n",
      "Epoch 9/10\n",
      " - 24s - loss: 0.0168 - acc: 0.9948 - val_loss: 0.0330 - val_acc: 0.9900\n",
      "Epoch 10/10\n",
      " - 25s - loss: 0.0133 - acc: 0.9957 - val_loss: 0.0303 - val_acc: 0.9902\n",
      "CNN Error: 0.98%\n"
     ]
    }
   ],
   "source": [
    "#build the actual model\n",
    "\n",
    "model = cnn_model()\n",
    "\n",
    "#fit the model, over 10 epochs, wit update every 200 images\n",
    "model.fit(X_train, y_train, validation_data = (X_test, y_test), epochs = 10, batch_size = 200, verbose = 2)\n",
    "\n",
    "#evaluate model\n",
    "scores = model.evaluate(X_test,y_test, verbose = 0)\n",
    "print(\"CNN Error: %.2f%%\" % (100-scores[1]*100))"
   ]
  },
  {
   "cell_type": "markdown",
   "metadata": {},
   "source": [
    "#### Our error rate has dropped to 0.98% with a CNN"
   ]
  },
  {
   "cell_type": "markdown",
   "metadata": {},
   "source": [
    "## Building a larger CNN for classification with the MNIST dataset"
   ]
  },
  {
   "cell_type": "code",
   "execution_count": 80,
   "metadata": {},
   "outputs": [],
   "source": [
    "#create function to build bigger model\n",
    "\n",
    "def large_cnn():\n",
    "    model = Sequential()\n",
    "    model.add(Conv2D(filters = 32,kernel_size = (5,5), input_shape = (1,28,28), activation = 'relu', data_format = 'channels_first'))\n",
    "    model.add(MaxPooling2D(pool_size = (2,2)))\n",
    "    model.add(Conv2D(filters = 64, kernel_size = (5,5), activation = 'relu'))\n",
    "    model.add(MaxPooling2D(pool_size = (2,2)))\n",
    "    model.add(Dropout(0.2))\n",
    "    model.add(Flatten())\n",
    "    model.add(Dense(units = 128, activation = 'relu'))\n",
    "    model.add(Dense(units = 50, activation = 'relu'))\n",
    "    model.add(Dense(units = num_classes, activation = 'softmax'))\n",
    "    \n",
    "    #compile model\n",
    "    model.compile(loss='categorical_crossentropy', optimizer = 'adam', metrics=['accuracy'])\n",
    "    \n",
    "    return model\n",
    "    "
   ]
  },
  {
   "cell_type": "code",
   "execution_count": 81,
   "metadata": {},
   "outputs": [
    {
     "name": "stdout",
     "output_type": "stream",
     "text": [
      "Train on 60000 samples, validate on 10000 samples\n",
      "Epoch 1/10\n",
      "60000/60000 [==============================] - 36s 608us/step - loss: 0.2873 - acc: 0.9121 - val_loss: 0.0699 - val_acc: 0.9776\n",
      "Epoch 2/10\n",
      "60000/60000 [==============================] - 35s 589us/step - loss: 0.0703 - acc: 0.9780 - val_loss: 0.0455 - val_acc: 0.9862\n",
      "Epoch 3/10\n",
      "60000/60000 [==============================] - 35s 591us/step - loss: 0.0488 - acc: 0.9847 - val_loss: 0.0408 - val_acc: 0.9863\n",
      "Epoch 4/10\n",
      "60000/60000 [==============================] - 36s 600us/step - loss: 0.0366 - acc: 0.9884 - val_loss: 0.0289 - val_acc: 0.9911\n",
      "Epoch 5/10\n",
      "60000/60000 [==============================] - 36s 604us/step - loss: 0.0308 - acc: 0.9903 - val_loss: 0.0267 - val_acc: 0.9926\n",
      "Epoch 6/10\n",
      "60000/60000 [==============================] - 37s 609us/step - loss: 0.0281 - acc: 0.9912 - val_loss: 0.0294 - val_acc: 0.9912\n",
      "Epoch 7/10\n",
      "60000/60000 [==============================] - 37s 610us/step - loss: 0.0223 - acc: 0.9929 - val_loss: 0.0291 - val_acc: 0.9909\n",
      "Epoch 8/10\n",
      "60000/60000 [==============================] - 37s 614us/step - loss: 0.0199 - acc: 0.9936 - val_loss: 0.0270 - val_acc: 0.9920\n",
      "Epoch 9/10\n",
      "60000/60000 [==============================] - 38s 633us/step - loss: 0.0193 - acc: 0.9939 - val_loss: 0.0243 - val_acc: 0.9930\n",
      "Epoch 10/10\n",
      "60000/60000 [==============================] - 39s 646us/step - loss: 0.0166 - acc: 0.9944 - val_loss: 0.0272 - val_acc: 0.9921\n",
      "Large CNN model error: 0.79%\n"
     ]
    }
   ],
   "source": [
    "#build model\n",
    "model = large_cnn()\n",
    "\n",
    "#fit model, over 10 epochs, with update ever 200 images (batch szie = 200)\n",
    "model.fit(X_train, y_train, validation_data = (X_test, y_test), epochs = 10, batch_size = 200)\n",
    "\n",
    "#evaluate model\n",
    "scores = model.evaluate(X_test, y_test, verbose = 0)\n",
    "print('Large CNN model error: %.2f%%' % (100-scores[1]*100))"
   ]
  },
  {
   "cell_type": "markdown",
   "metadata": {},
   "source": [
    "#### Further improvement with this 'closer to state of the art' model. Error rate has dropped to 0.79%. Took a little longer to train, but nothing too bad, although small dataset. "
   ]
  },
  {
   "cell_type": "code",
   "execution_count": null,
   "metadata": {},
   "outputs": [],
   "source": []
  },
  {
   "cell_type": "code",
   "execution_count": null,
   "metadata": {},
   "outputs": [],
   "source": []
  },
  {
   "cell_type": "code",
   "execution_count": null,
   "metadata": {},
   "outputs": [],
   "source": []
  }
 ],
 "metadata": {
  "kernelspec": {
   "display_name": "Python 3",
   "language": "python",
   "name": "python3"
  },
  "language_info": {
   "codemirror_mode": {
    "name": "ipython",
    "version": 3
   },
   "file_extension": ".py",
   "mimetype": "text/x-python",
   "name": "python",
   "nbconvert_exporter": "python",
   "pygments_lexer": "ipython3",
   "version": "3.7.3"
  }
 },
 "nbformat": 4,
 "nbformat_minor": 2
}
