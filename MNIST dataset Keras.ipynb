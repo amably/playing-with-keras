{
 "cells": [
  {
   "cell_type": "markdown",
   "metadata": {},
   "source": [
    "## Using Keras to build neural networks\n",
    "\n",
    "#### Working from keras documentation (https://keras.io/) and also this blog post.... https://machinelearningmastery.com/handwritten-digit-recognition-using-convolutional-neural-networks-python-keras/"
   ]
  },
  {
   "cell_type": "code",
   "execution_count": 26,
   "metadata": {},
   "outputs": [],
   "source": [
    "import numpy as np\n",
    "np.random.seed(42)\n",
    "\n",
    "from keras.models import Sequential\n",
    "from keras.layers import Dense, Dropout, Flatten\n",
    "from keras.layers.convolutional import Conv2D, MaxPooling2D\n",
    "import keras.utils as k_utils\n",
    "from keras.datasets import mnist\n",
    "\n",
    "import matplotlib.pyplot as plt"
   ]
  },
  {
   "cell_type": "code",
   "execution_count": 27,
   "metadata": {},
   "outputs": [],
   "source": [
    "#load MNIST dataset\n",
    "(X_train, y_train), (X_test, y_test) = mnist.load_data()"
   ]
  },
  {
   "cell_type": "code",
   "execution_count": 28,
   "metadata": {},
   "outputs": [
    {
     "data": {
      "text/plain": [
       "<matplotlib.image.AxesImage at 0x7fc1dba9a1d0>"
      ]
     },
     "execution_count": 28,
     "metadata": {},
     "output_type": "execute_result"
    },
    {
     "data": {
      "image/png": "[encoded data removed]",
      "text/plain": [
       "<Figure size 432x288 with 1 Axes>"
      ]
     },
     "metadata": {
      "needs_background": "light"
     },
     "output_type": "display_data"
    }
   ],
   "source": [
    "plt.imshow(X_train[0])"
   ]
  },
  {
   "cell_type": "code",
   "execution_count": 29,
   "metadata": {},
   "outputs": [
    {
     "data": {
      "text/plain": [
       "(60000, 28, 28)"
      ]
     },
     "execution_count": 29,
     "metadata": {},
     "output_type": "execute_result"
    }
   ],
   "source": [
    "X_train.shape"
   ]
  },
  {
   "cell_type": "code",
   "execution_count": 30,
   "metadata": {},
   "outputs": [],
   "source": [
    "#dataset is 3D, so it will need to be flattened\n",
    "pixels = X_train.shape[1] * X_train.shape[2]\n",
    "X_train = X_train.reshape(X_train.shape[0], pixels).astype('float32')\n",
    "X_test = X_test.reshape(X_test.shape[0], pixels).astype('float32')"
   ]
  },
  {
   "cell_type": "code",
   "execution_count": 31,
   "metadata": {},
   "outputs": [],
   "source": [
    "#normalize so all the values line between 0-1\n",
    "X_train /= 255\n",
    "X_test /= 255\n"
   ]
  },
  {
   "cell_type": "code",
   "execution_count": 32,
   "metadata": {},
   "outputs": [
    {
     "data": {
      "text/plain": [
       "(60000,)"
      ]
     },
     "execution_count": 32,
     "metadata": {},
     "output_type": "execute_result"
    }
   ],
   "source": [
    "y_train.shape"
   ]
  },
  {
   "cell_type": "code",
   "execution_count": 33,
   "metadata": {},
   "outputs": [
    {
     "data": {
      "text/plain": [
       "5"
      ]
     },
     "execution_count": 33,
     "metadata": {},
     "output_type": "execute_result"
    }
   ],
   "source": [
    "y_train[0]"
   ]
  },
  {
   "cell_type": "code",
   "execution_count": 34,
   "metadata": {},
   "outputs": [],
   "source": [
    "#target is currently still a list on integers, but it needs to be categories, can do this using utils.to_category\n",
    "y_train = k_utils.to_categorical(y_train)\n",
    "y_test = k_utils.to_categorical(y_test)\n",
    "num_classes = y_test.shape[1]\n"
   ]
  },
  {
   "cell_type": "markdown",
   "metadata": {},
   "source": [
    "## Build a simple multi-layer perceptron model\n",
    "#### The model is build sequentially, with layers added one at a time. We're only adding one hidden layer and an output layer for this first simple model, but we'll be adding more layers later\n",
    "#### input_dims is the input dimensions, this only needs to be secified in the first layer\n",
    "#### finding the best network topology for your needs usually comes down to a little trial and error, but you need a large enough netwrok to capture the structure of the problem"
   ]
  },
  {
   "cell_type": "code",
   "execution_count": 35,
   "metadata": {},
   "outputs": [],
   "source": [
    "#we can now create a baseline model\n",
    "\n",
    "def baseline_model():\n",
    "    # create model\n",
    "    model = Sequential()\n",
    "    model.add(Dense(units = pixels, input_dim=pixels, kernel_initializer='normal', activation='relu'))\n",
    "    model.add(Dense(units = num_classes, kernel_initializer='normal', activation='softmax'))\n",
    "    \n",
    "    # Compile model\n",
    "    model.compile(loss='categorical_crossentropy', optimizer='adam', metrics=['accuracy'])\n",
    "    return model"
   ]
  },
  {
   "cell_type": "markdown",
   "metadata": {},
   "source": [
    "#### The baseline model has one hidden layer. The hidden layer has the same number of neurons as there are inputs (28*28 pixels).\n",
    "#### The Dense() class defines fully connected layers\n",
    "#### The softmax activation function for the output layer output a probability value, so one of the classes (0-9) will be selected. "
   ]
  },
  {
   "cell_type": "code",
   "execution_count": 36,
   "metadata": {},
   "outputs": [
    {
     "name": "stdout",
     "output_type": "stream",
     "text": [
      "Train on 60000 samples, validate on 10000 samples\n",
      "Epoch 1/10\n",
      " - 5s - loss: 0.2775 - acc: 0.9212 - val_loss: 0.1418 - val_acc: 0.9582\n",
      "Epoch 2/10\n",
      " - 4s - loss: 0.1094 - acc: 0.9684 - val_loss: 0.0938 - val_acc: 0.9714\n",
      "Epoch 3/10\n",
      " - 5s - loss: 0.0716 - acc: 0.9788 - val_loss: 0.0783 - val_acc: 0.9771\n",
      "Epoch 4/10\n",
      " - 5s - loss: 0.0493 - acc: 0.9860 - val_loss: 0.0674 - val_acc: 0.9798\n",
      "Epoch 5/10\n",
      " - 4s - loss: 0.0358 - acc: 0.9897 - val_loss: 0.0646 - val_acc: 0.9794\n",
      "Epoch 6/10\n",
      " - 4s - loss: 0.0260 - acc: 0.9930 - val_loss: 0.0596 - val_acc: 0.9812\n",
      "Epoch 7/10\n",
      " - 4s - loss: 0.0192 - acc: 0.9954 - val_loss: 0.0631 - val_acc: 0.9813\n",
      "Epoch 8/10\n",
      " - 4s - loss: 0.0153 - acc: 0.9962 - val_loss: 0.0573 - val_acc: 0.9812\n",
      "Epoch 9/10\n",
      " - 4s - loss: 0.0105 - acc: 0.9979 - val_loss: 0.0568 - val_acc: 0.9828\n",
      "Epoch 10/10\n",
      " - 4s - loss: 0.0074 - acc: 0.9988 - val_loss: 0.0663 - val_acc: 0.9798\n",
      "Baseline Error: 2.02%\n"
     ]
    }
   ],
   "source": [
    "# build the baseline model\n",
    "model = baseline_model()\n",
    "\n",
    "# Fit the model, over 10 epochs, with update every 200 images\n",
    "model.fit(X_train, y_train, validation_data=(X_test, y_test), epochs=10, batch_size=200, verbose=2)\n",
    "\n",
    "# Evaluate baseline model\n",
    "scores = model.evaluate(X_test, y_test, verbose=0)\n",
    "print(\"Baseline Error: %.2f%%\" % (100-scores[1]*100))"
   ]
  },
  {
   "cell_type": "markdown",
   "metadata": {},
   "source": [
    "#### Epochs refers to the number of iteractions through the dataset for the training process. And the batch_size sets the number of instances that are evaluated before the network weights are updated. "
   ]
  },
  {
   "cell_type": "markdown",
   "metadata": {},
   "source": [
    "## Build a CNN\n",
    "#### This requires slightly different reshaping compared to the previous example"
   ]
  },
  {
   "cell_type": "code",
   "execution_count": 37,
   "metadata": {},
   "outputs": [
    {
     "data": {
      "text/plain": [
       "(60000, 1, 28, 28)"
      ]
     },
     "execution_count": 37,
     "metadata": {},
     "output_type": "execute_result"
    }
   ],
   "source": [
    "# load data\n",
    "(X_train, y_train), (X_test, y_test) = mnist.load_data()\n",
    "\n",
    "# reshape to be [samples][pixels][width][height]\n",
    "X_train = X_train.reshape(X_train.shape[0], 1, 28, 28).astype('float32')\n",
    "X_test = X_test.reshape(X_test.shape[0], 1, 28, 28).astype('float32')\n",
    "\n",
    "#and normalize\n",
    "X_train /= 255\n",
    "X_test /= 255\n",
    "\n",
    "# one hot encode outputs\n",
    "y_train = k_utils.to_categorical(y_train)\n",
    "y_test = k_utils.to_categorical(y_test)\n",
    "num_classes = y_test.shape[1]\n",
    "\n",
    "X_train.shape"
   ]
  },
  {
   "cell_type": "markdown",
   "metadata": {},
   "source": [
    "#### Conv2D() - 2D convolutional layer (for spatial convolution over images) filters is the dimensionality of the output space, kernel size is the width and height of the 2D convolution window (must be an odd integer), need to define the input shape for the first layer, need to define the activaton function\n",
    "#### MaxPooling2D() is used to reduce the spatial dimensions of the output volumne\n",
    "#### Dropout() helps with overfitting, sets a random fraction of the input units to 0 at each update during training. Form of regularization. \n",
    "#### Flatten() flattens the input\n"
   ]
  },
  {
   "cell_type": "code",
   "execution_count": 38,
   "metadata": {},
   "outputs": [],
   "source": [
    "#create function to build model\n",
    "\n",
    "def cnn_model():\n",
    "    model = Sequential()\n",
    "    model.add(Conv2D(filters = 32,kernel_size = (5,5), input_shape = (1,28,28), activation = 'relu'))\n",
    "    model.add(MaxPooling2D(pool_size = (2,2)))\n",
    "    model.add(Dropout(0.2))\n",
    "    model.add(Flatten())\n",
    "    model.add(Dense(units = 128, activation = 'relu'))\n",
    "    model.add(Dense(units = num_classes, activation = 'softmax'))\n",
    "    \n",
    "    #compile model\n",
    "    model.compile(loss='categorical_crossentropy', optimizer = 'adam', metrics=['accuracy'])\n",
    "    \n",
    "    return model"
   ]
  },
  {
   "cell_type": "code",
   "execution_count": 39,
   "metadata": {},
   "outputs": [
    {
     "name": "stdout",
     "output_type": "stream",
     "text": [
      "Train on 60000 samples, validate on 10000 samples\n",
      "Epoch 1/10\n",
      " - 27s - loss: 0.2390 - acc: 0.9321 - val_loss: 0.0735 - val_acc: 0.9769\n",
      "Epoch 2/10\n",
      " - 25s - loss: 0.0695 - acc: 0.9798 - val_loss: 0.0484 - val_acc: 0.9850\n",
      "Epoch 3/10\n",
      " - 26s - loss: 0.0496 - acc: 0.9849 - val_loss: 0.0437 - val_acc: 0.9862\n",
      "Epoch 4/10\n",
      " - 26s - loss: 0.0391 - acc: 0.9876 - val_loss: 0.0396 - val_acc: 0.9870\n",
      "Epoch 5/10\n",
      " - 26s - loss: 0.0312 - acc: 0.9905 - val_loss: 0.0350 - val_acc: 0.9878\n",
      "Epoch 6/10\n",
      " - 25s - loss: 0.0266 - acc: 0.9914 - val_loss: 0.0354 - val_acc: 0.9875\n",
      "Epoch 7/10\n",
      " - 26s - loss: 0.0217 - acc: 0.9932 - val_loss: 0.0350 - val_acc: 0.9892\n",
      "Epoch 8/10\n",
      " - 25s - loss: 0.0181 - acc: 0.9943 - val_loss: 0.0363 - val_acc: 0.9881\n",
      "Epoch 9/10\n",
      " - 25s - loss: 0.0153 - acc: 0.9956 - val_loss: 0.0410 - val_acc: 0.9886\n",
      "Epoch 10/10\n",
      " - 26s - loss: 0.0136 - acc: 0.9957 - val_loss: 0.0383 - val_acc: 0.9897\n",
      "CNN Error: 1.03%\n"
     ]
    }
   ],
   "source": [
    "#build the actual model\n",
    "\n",
    "model = cnn_model()\n",
    "\n",
    "#fit the model, over 10 epochs, with update every 200 images\n",
    "model.fit(X_train, y_train, validation_data = (X_test, y_test), epochs = 10, batch_size = 200, verbose = 2)\n",
    "\n",
    "#evaluate model\n",
    "scores = model.evaluate(X_test,y_test, verbose = 0)\n",
    "print(\"CNN Error: %.2f%%\" % (100-scores[1]*100))"
   ]
  },
  {
   "cell_type": "markdown",
   "metadata": {},
   "source": [
    "#### Our error rate has dropped to 1.03% with a CNN"
   ]
  },
  {
   "cell_type": "markdown",
   "metadata": {},
   "source": [
    "## Building a larger CNN for classification with the MNIST dataset"
   ]
  },
  {
   "cell_type": "code",
   "execution_count": 40,
   "metadata": {},
   "outputs": [],
   "source": [
    "#create function to build bigger model\n",
    "\n",
    "def large_cnn():\n",
    "    model = Sequential()\n",
    "    model.add(Conv2D(filters = 32,kernel_size = (5,5), input_shape = (1,28,28), activation = 'relu'))\n",
    "    model.add(MaxPooling2D(pool_size = (2,2)))\n",
    "    model.add(Conv2D(filters = 64, kernel_size = (5,5), activation = 'relu'))\n",
    "    model.add(MaxPooling2D(pool_size = (2,2)))\n",
    "    model.add(Dropout(0.2))\n",
    "    model.add(Flatten())\n",
    "    model.add(Dense(units = 128, activation = 'relu'))\n",
    "    model.add(Dense(units = 50, activation = 'relu'))\n",
    "    model.add(Dense(units = num_classes, activation = 'softmax'))\n",
    "    \n",
    "    #compile model\n",
    "    model.compile(loss='categorical_crossentropy', optimizer = 'adam', metrics=['accuracy'])\n",
    "    \n",
    "    return model\n",
    "    "
   ]
  },
  {
   "cell_type": "code",
   "execution_count": 41,
   "metadata": {},
   "outputs": [
    {
     "name": "stdout",
     "output_type": "stream",
     "text": [
      "Train on 60000 samples, validate on 10000 samples\n",
      "Epoch 1/10\n",
      "60000/60000 [==============================] - 38s 641us/step - loss: 0.2915 - acc: 0.9090 - val_loss: 0.0646 - val_acc: 0.9801\n",
      "Epoch 2/10\n",
      "60000/60000 [==============================] - 36s 605us/step - loss: 0.0713 - acc: 0.9776 - val_loss: 0.0421 - val_acc: 0.9853\n",
      "Epoch 3/10\n",
      "60000/60000 [==============================] - 37s 616us/step - loss: 0.0500 - acc: 0.9839 - val_loss: 0.0388 - val_acc: 0.9880\n",
      "Epoch 4/10\n",
      "60000/60000 [==============================] - 37s 615us/step - loss: 0.0389 - acc: 0.9878 - val_loss: 0.0252 - val_acc: 0.9917\n",
      "Epoch 5/10\n",
      "60000/60000 [==============================] - 41s 679us/step - loss: 0.0317 - acc: 0.9900 - val_loss: 0.0286 - val_acc: 0.9906\n",
      "Epoch 6/10\n",
      "60000/60000 [==============================] - 40s 667us/step - loss: 0.0283 - acc: 0.9909 - val_loss: 0.0252 - val_acc: 0.9916\n",
      "Epoch 7/10\n",
      "60000/60000 [==============================] - 39s 642us/step - loss: 0.0237 - acc: 0.9923 - val_loss: 0.0255 - val_acc: 0.9918\n",
      "Epoch 8/10\n",
      "60000/60000 [==============================] - 39s 646us/step - loss: 0.0206 - acc: 0.9931 - val_loss: 0.0217 - val_acc: 0.9935\n",
      "Epoch 9/10\n",
      "60000/60000 [==============================] - 39s 654us/step - loss: 0.0197 - acc: 0.9932 - val_loss: 0.0256 - val_acc: 0.9924\n",
      "Epoch 10/10\n",
      "60000/60000 [==============================] - 39s 651us/step - loss: 0.0188 - acc: 0.9942 - val_loss: 0.0218 - val_acc: 0.9936\n",
      "Large CNN model error: 0.64%\n"
     ]
    }
   ],
   "source": [
    "#build model\n",
    "model = large_cnn()\n",
    "\n",
    "#fit model, over 10 epochs, with update ever 200 images (batch szie = 200)\n",
    "model.fit(X_train, y_train, validation_data = (X_test, y_test), epochs = 10, batch_size = 200)\n",
    "\n",
    "#evaluate model\n",
    "scores = model.evaluate(X_test, y_test, verbose = 0)\n",
    "print('Large CNN model error: %.2f%%' % (100-scores[1]*100))"
   ]
  },
  {
   "cell_type": "markdown",
   "metadata": {},
   "source": [
    "#### Further improvement with this 'closer to state of the art' model. Error rate has dropped to 0.64%. Took a little longer to train, but nothing too bad, although small dataset. "
   ]
  },
  {
   "cell_type": "code",
   "execution_count": null,
   "metadata": {},
   "outputs": [],
   "source": []
  },
  {
   "cell_type": "code",
   "execution_count": null,
   "metadata": {},
   "outputs": [],
   "source": []
  },
  {
   "cell_type": "code",
   "execution_count": null,
   "metadata": {},
   "outputs": [],
   "source": []
  },
  {
   "cell_type": "code",
   "execution_count": null,
   "metadata": {},
   "outputs": [],
   "source": []
  }
 ],
 "metadata": {
  "kernelspec": {
   "display_name": "Python 3",
   "language": "python",
   "name": "python3"
  },
  "language_info": {
   "codemirror_mode": {
    "name": "ipython",
    "version": 3
   },
   "file_extension": ".py",
   "mimetype": "text/x-python",
   "name": "python",
   "nbconvert_exporter": "python",
   "pygments_lexer": "ipython3",
   "version": "3.7.3"
  }
 },
 "nbformat": 4,
 "nbformat_minor": 2
}
